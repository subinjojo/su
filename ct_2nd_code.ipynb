{
  "nbformat": 4,
  "nbformat_minor": 0,
  "metadata": {
    "colab": {
      "provenance": []
    },
    "kernelspec": {
      "name": "python3",
      "display_name": "Python 3"
    },
    "language_info": {
      "name": "python"
    }
  },
  "cells": [
    {
      "cell_type": "code",
      "execution_count": null,
      "metadata": {
        "id": "pSV3Mf1mHMpE"
      },
      "outputs": [],
      "source": []
    },
    {
      "cell_type": "markdown",
      "source": [
        "2.사용자로부터 3개의 변수를 입력 받아서 합을 구하고, 평균을 구하는 코드\n",
        "  \n",
        "  변수는:n1,n2,n3,total,average\n"
      ],
      "metadata": {
        "id": "2th13cVbHhdj"
      }
    },
    {
      "cell_type": "code",
      "source": [
        "n1=int(input(\"n1의 값을 입력하시오.:\"))\n",
        "n2=int(input(\"n2의 값을 입력하시오.:\"))\n",
        "n3=int(input(\"n3의 값을 입력하시오.:\"))\n",
        "total=n1+n2+n3\n",
        "print('합계는:',total)\n",
        "average=total/3\n",
        "print('평균은:',average)\n",
        "\n",
        "\n"
      ],
      "metadata": {
        "colab": {
          "base_uri": "https://localhost:8080/"
        },
        "id": "xR5o-VqLIAC2",
        "outputId": "5b8ac065-f121-4266-e875-eabbbc97c49c"
      },
      "execution_count": null,
      "outputs": [
        {
          "output_type": "stream",
          "name": "stdout",
          "text": [
            "n1의 값을 입력하시오.:50\n",
            "n2의 값을 입력하시오.:60\n",
            "n3의 값을 입력하시오.:70\n",
            "합계는: 180\n",
            "평균은: 60.0\n"
          ]
        }
      ]
    }
  ]
}