{
  "nbformat": 4,
  "nbformat_minor": 0,
  "metadata": {
    "colab": {
      "provenance": [],
      "name": "CTAB_7_1.ipynb",
      "authorship_tag": "ABX9TyMWHXnz8pmJV1ponOAlcXYf",
      "include_colab_link": true
    },
    "kernelspec": {
      "name": "python3",
      "display_name": "Python 3"
    },
    "language_info": {
      "name": "python"
    }
  },
  "cells": [
    {
      "cell_type": "markdown",
      "metadata": {
        "id": "view-in-github",
        "colab_type": "text"
      },
      "source": [
        "<a href=\"https://colab.research.google.com/github/subinjojo/su/blob/main/CTAB_7_1.ipynb\" target=\"_parent\"><img src=\"https://colab.research.google.com/assets/colab-badge.svg\" alt=\"Open In Colab\"/></a>"
      ]
    },
    {
      "cell_type": "markdown",
      "source": [],
      "metadata": {
        "id": "_UqLy9XYUafq"
      }
    },
    {
      "cell_type": "markdown",
      "source": [
        "1.사용자로부터 두개의 정수를 받아서 합계를 출력\n",
        "- 정수 x\n",
        "- 정수 y"
      ],
      "metadata": {
        "id": "DX5TBooZRvhw"
      }
    },
    {
      "cell_type": "code",
      "execution_count": null,
      "metadata": {
        "colab": {
          "base_uri": "https://localhost:8080/"
        },
        "id": "H3uyoLEeUZQc",
        "outputId": "c819a8e5-2140-4a99-cd34-26c61bfe0334"
      },
      "outputs": [
        {
          "output_type": "stream",
          "name": "stdout",
          "text": [
            "정수 2개를 입력하시오.:\n",
            "x의 값을 입력하시오.:1\n",
            "y의 값을 입력하시오.:2\n",
            "3\n",
            "1 + 2 의 값은 3이다.\n"
          ]
        }
      ],
      "source": [
        "print(\"정수 2개를 입력하시오.:\")\n",
        "x = int(input(\"x의 값을 입력하시오.:\"))\n",
        "y = int(input(\"y의 값을 입력하시오.:\"))\n",
        "sum = x + y\n",
        "print(sum)\n",
        "print(f'{x} + {y} 의 값은 {sum}이다.')"
      ]
    },
    {
      "cell_type": "markdown",
      "source": [
        "2.부가세를 계사\n",
        "- 상품의 가격 (price)\n",
        "- 부가세 (vat)"
      ],
      "metadata": {
        "id": "b6GbMV7_SEfo"
      }
    },
    {
      "cell_type": "code",
      "source": [
        "print(\"상품의 가격을 입력하시오.:\")\n",
        "price = int(input(\"상품의 가격:\"))\n",
        "vat = price * 0.1\n",
        "print(vat)\n",
        "print(f'상품의 가격은 {price}이며, 부가세는 {vat}이다.')"
      ],
      "metadata": {
        "colab": {
          "base_uri": "https://localhost:8080/"
        },
        "id": "nmZOB-_DSRrs",
        "outputId": "84600b49-948c-422b-e7e0-a42086f7bd94"
      },
      "execution_count": null,
      "outputs": [
        {
          "output_type": "stream",
          "name": "stdout",
          "text": [
            "상품의 가격을 입력하시오.:\n",
            "상품의 가격:1000\n",
            "100.0\n",
            "상품의 가격은 1000이며, 부가세는 100.0이다.\n"
          ]
        }
      ]
    }
  ]
}